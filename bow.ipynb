{
 "cells": [
  {
   "cell_type": "code",
   "execution_count": 3,
   "metadata": {},
   "outputs": [
    {
     "name": "stdout",
     "output_type": "stream",
     "text": [
      "   are  country  current  india  indians  is  minister  modi  narendra  of  \\\n",
      "0    1        1        0      1        1   1         0     0         0   0   \n",
      "1    0        0        1      1        0   1         1     1         1   1   \n",
      "\n",
      "   prime  proud  republic  shri  the  we  \n",
      "0      0      1         1     0    0   1  \n",
      "1      1      0         0     1    1   0  \n"
     ]
    }
   ],
   "source": [
    "from sklearn.feature_extraction.text import CountVectorizer\n",
    "import pandas as pd\n",
    "sent1 = \"India is a republic country. We are proud Indians.\"\n",
    "sent2 = \"The current Prime Minister of India is Shri. Narendra Modi.\"\n",
    "count_vectorizer = CountVectorizer()\n",
    "dtm = count_vectorizer.fit_transform([sent1,sent2])\n",
    "print(pd.DataFrame(data=dtm.toarray(), columns=count_vectorizer.get_feature_names_out()))\n"
   ]
  },
  {
   "cell_type": "code",
   "execution_count": 5,
   "metadata": {},
   "outputs": [
    {
     "name": "stdout",
     "output_type": "stream",
     "text": [
      "0.7763932022500211\n"
     ]
    }
   ],
   "source": [
    "from scipy.spatial.distance import cosine\n",
    "print(cosine(dtm[0].toarray().ravel(),dtm[1].toarray().ravel())) \n",
    "#Prints 0.7763932022500211 indicating that the two documents are not very similar\n"
   ]
  },
  {
   "cell_type": "code",
   "execution_count": 7,
   "metadata": {},
   "outputs": [
    {
     "name": "stdout",
     "output_type": "stream",
     "text": [
      "        are   country   current     india   indians        is  minister  \\\n",
      "0  0.377628  0.377628  0.000000  0.268685  0.377628  0.268685  0.000000   \n",
      "1  0.000000  0.000000  0.333102  0.237005  0.000000  0.237005  0.333102   \n",
      "\n",
      "       modi  narendra        of     prime     proud  republic      shri  \\\n",
      "0  0.000000  0.000000  0.000000  0.000000  0.377628  0.377628  0.000000   \n",
      "1  0.333102  0.333102  0.333102  0.333102  0.000000  0.000000  0.333102   \n",
      "\n",
      "        the        we  \n",
      "0  0.000000  0.377628  \n",
      "1  0.333102  0.000000  \n"
     ]
    }
   ],
   "source": [
    "from sklearn.feature_extraction.text import TfidfVectorizer\n",
    "import pandas as pd\n",
    "sent1 = \"India is a republic country. We are proud Indians.\"\n",
    "sent2 = \"The current Prime Minister of India is Shri. Narendra Modi.\"\n",
    "tfidf_vectorizer = TfidfVectorizer()\n",
    "tfidf_vectors = tfidf_vectorizer.fit_transform([sent1,sent2])\n",
    "print(pd.DataFrame(data=tfidf_vectors.toarray(),columns=tfidf_vectorizer.get_feature_names_out()))\n",
    "#Exercise: Compute the cosine distance of these two documents using tfidf_vectors\n"
   ]
  }
 ],
 "metadata": {
  "kernelspec": {
   "display_name": "Python 3",
   "language": "python",
   "name": "python3"
  },
  "language_info": {
   "codemirror_mode": {
    "name": "ipython",
    "version": 3
   },
   "file_extension": ".py",
   "mimetype": "text/x-python",
   "name": "python",
   "nbconvert_exporter": "python",
   "pygments_lexer": "ipython3",
   "version": "3.10.1"
  }
 },
 "nbformat": 4,
 "nbformat_minor": 2
}
